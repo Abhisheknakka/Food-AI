{
 "cells": [
  {
   "cell_type": "code",
   "execution_count": 35,
   "id": "bd2613a6-4107-409b-9dba-9970984a9a8e",
   "metadata": {},
   "outputs": [],
   "source": [
    "import pandas as pd\n",
    "import numpy as np\n"
   ]
  },
  {
   "cell_type": "code",
   "execution_count": 3,
   "id": "a7b8ed4f-9c18-412e-b333-ac8c2813de22",
   "metadata": {},
   "outputs": [],
   "source": [
    "# Path to the CSV file\n",
    "file_path = 'D:/Projects/Food-AI/inputFolder/openfoodfacts_dataset/food_dataset.csv'"
   ]
  },
  {
   "cell_type": "code",
   "execution_count": 10,
   "id": "de4c22c8-4e01-4b0f-8e77-4ecdda7b57ed",
   "metadata": {},
   "outputs": [],
   "source": [
    "outputFolder = 'D:/Projects/Food-AI/inputFolder/openfoodfacts_dataset/'"
   ]
  },
  {
   "cell_type": "code",
   "execution_count": null,
   "id": "289ce7bd-5dc3-4413-af61-4512ccef03a8",
   "metadata": {},
   "outputs": [],
   "source": [
    "#read and fetch 10 rows of the dataframe\n",
    "full_df_10 = pd.read_csv(file_path, sep='\\t',nrow=10)"
   ]
  },
  {
   "cell_type": "code",
   "execution_count": 32,
   "id": "e78bef41-6e1b-4fc5-bb24-5bb39082bc85",
   "metadata": {},
   "outputs": [
    {
     "name": "stdout",
     "output_type": "stream",
     "text": [
      "['code', 'url', 'creator', 'created_t', 'created_datetime', 'last_modified_t', 'last_modified_datetime', 'last_modified_by', 'last_updated_t', 'last_updated_datetime', 'product_name', 'abbreviated_product_name', 'generic_name', 'quantity', 'packaging', 'packaging_tags', 'packaging_en', 'packaging_text', 'brands', 'brands_tags', 'categories', 'categories_tags', 'categories_en', 'origins', 'origins_tags', 'origins_en', 'manufacturing_places', 'manufacturing_places_tags', 'labels', 'labels_tags', 'labels_en', 'emb_codes', 'emb_codes_tags', 'first_packaging_code_geo', 'cities', 'cities_tags', 'purchase_places', 'stores', 'countries', 'countries_tags', 'countries_en', 'ingredients_text', 'ingredients_tags', 'ingredients_analysis_tags', 'allergens', 'allergens_en', 'traces', 'traces_tags', 'traces_en', 'serving_size', 'serving_quantity', 'no_nutrition_data', 'additives_n', 'additives', 'additives_tags', 'additives_en', 'nutriscore_score', 'nutriscore_grade', 'nova_group', 'pnns_groups_1', 'pnns_groups_2', 'food_groups', 'food_groups_tags', 'food_groups_en', 'states', 'states_tags', 'states_en', 'brand_owner', 'ecoscore_score', 'ecoscore_grade', 'nutrient_levels_tags', 'product_quantity', 'owner', 'data_quality_errors_tags', 'unique_scans_n', 'popularity_tags', 'completeness', 'last_image_t', 'last_image_datetime', 'main_category', 'main_category_en', 'image_url', 'image_small_url', 'image_ingredients_url', 'image_ingredients_small_url', 'image_nutrition_url', 'image_nutrition_small_url', 'energy-kj_100g', 'energy-kcal_100g', 'energy_100g', 'energy-from-fat_100g', 'fat_100g', 'saturated-fat_100g', 'butyric-acid_100g', 'caproic-acid_100g', 'caprylic-acid_100g', 'capric-acid_100g', 'lauric-acid_100g', 'myristic-acid_100g', 'palmitic-acid_100g', 'stearic-acid_100g', 'arachidic-acid_100g', 'behenic-acid_100g', 'lignoceric-acid_100g', 'cerotic-acid_100g', 'montanic-acid_100g', 'melissic-acid_100g', 'unsaturated-fat_100g', 'monounsaturated-fat_100g', 'omega-9-fat_100g', 'polyunsaturated-fat_100g', 'omega-3-fat_100g', 'omega-6-fat_100g', 'alpha-linolenic-acid_100g', 'eicosapentaenoic-acid_100g', 'docosahexaenoic-acid_100g', 'linoleic-acid_100g', 'arachidonic-acid_100g', 'gamma-linolenic-acid_100g', 'dihomo-gamma-linolenic-acid_100g', 'oleic-acid_100g', 'elaidic-acid_100g', 'gondoic-acid_100g', 'mead-acid_100g', 'erucic-acid_100g', 'nervonic-acid_100g', 'trans-fat_100g', 'cholesterol_100g', 'carbohydrates_100g', 'sugars_100g', 'added-sugars_100g', 'sucrose_100g', 'glucose_100g', 'fructose_100g', 'lactose_100g', 'maltose_100g', 'maltodextrins_100g', 'starch_100g', 'polyols_100g', 'erythritol_100g', 'fiber_100g', 'soluble-fiber_100g', 'insoluble-fiber_100g', 'proteins_100g', 'casein_100g', 'serum-proteins_100g', 'nucleotides_100g', 'salt_100g', 'added-salt_100g', 'sodium_100g', 'alcohol_100g', 'vitamin-a_100g', 'beta-carotene_100g', 'vitamin-d_100g', 'vitamin-e_100g', 'vitamin-k_100g', 'vitamin-c_100g', 'vitamin-b1_100g', 'vitamin-b2_100g', 'vitamin-pp_100g', 'vitamin-b6_100g', 'vitamin-b9_100g', 'folates_100g', 'vitamin-b12_100g', 'biotin_100g', 'pantothenic-acid_100g', 'silica_100g', 'bicarbonate_100g', 'potassium_100g', 'chloride_100g', 'calcium_100g', 'phosphorus_100g', 'iron_100g', 'magnesium_100g', 'zinc_100g', 'copper_100g', 'manganese_100g', 'fluoride_100g', 'selenium_100g', 'chromium_100g', 'molybdenum_100g', 'iodine_100g', 'caffeine_100g', 'taurine_100g', 'ph_100g', 'fruits-vegetables-nuts_100g', 'fruits-vegetables-nuts-dried_100g', 'fruits-vegetables-nuts-estimate_100g', 'fruits-vegetables-nuts-estimate-from-ingredients_100g', 'collagen-meat-protein-ratio_100g', 'cocoa_100g', 'chlorophyl_100g', 'carbon-footprint_100g', 'carbon-footprint-from-meat-or-fish_100g', 'nutrition-score-fr_100g', 'nutrition-score-uk_100g', 'glycemic-index_100g', 'water-hardness_100g', 'choline_100g', 'phylloquinone_100g', 'beta-glucan_100g', 'inositol_100g', 'carnitine_100g', 'sulphate_100g', 'nitrate_100g', 'acidity_100g']\n"
     ]
    }
   ],
   "source": [
    "# Get the column names\n",
    "column_names = full_df.columns.tolist()\n",
    "# Print the column names\n",
    "print(column_names)"
   ]
  },
  {
   "cell_type": "code",
   "execution_count": 41,
   "id": "a5f10697-efdb-45c2-b73c-d39999a0ad7c",
   "metadata": {},
   "outputs": [],
   "source": [
    "# Extract required columns\n",
    "columnNames = ['product_name', 'ingredients_text', 'countries_en']\n",
    "\n",
    "full_df = pd.read_csv(file_path, sep='\\t', usecols=columnNames)"
   ]
  },
  {
   "cell_type": "code",
   "execution_count": 42,
   "id": "2f6fe3d0-98fe-4b5a-abee-972de133d2ca",
   "metadata": {},
   "outputs": [],
   "source": [
    "countries_of_interest = ['United States']"
   ]
  },
  {
   "cell_type": "code",
   "execution_count": 43,
   "id": "886916cd-241c-4973-8395-d504abb94a2c",
   "metadata": {},
   "outputs": [],
   "source": [
    "# Initialize an empty list to store the filtered data\n",
    "chunksize = 10000 \n",
    "# Get the total number of rows in the DataFrame\n",
    "total_rows = len(full_df)\n",
    "\n",
    "# Calculate the number of chunks\n",
    "num_chunks = int(np.ceil(total_rows / chunksize))\n",
    "\n",
    "\n",
    "# Initialize an empty list to store filtered chunks\n",
    "filtered_chunks = []"
   ]
  },
  {
   "cell_type": "code",
   "execution_count": 44,
   "id": "cd5ad8d5-9c7f-4457-8fe4-004df39d00a2",
   "metadata": {},
   "outputs": [],
   "source": [
    "# Process each chunk\n",
    "for i in range(num_chunks):\n",
    "    # Calculate start and end indices for the current chunk\n",
    "    start = i * chunksize\n",
    "    end = min(start + chunksize, total_rows)\n",
    "    \n",
    "    # Extract the chunk\n",
    "    chunk = full_df.iloc[start:end]\n",
    "    \n",
    "    # Apply filtering\n",
    "    filtered_chunk = chunk[(chunk['countries_en'].isin(countries_of_interest)) & (chunk['ingredients_text'].notna())]\n",
    "    \n",
    "    # Append the filtered chunk to the list\n",
    "    filtered_chunks.append(filtered_chunk)"
   ]
  },
  {
   "cell_type": "code",
   "execution_count": 20,
   "id": "273e4784-aa48-4226-b263-264c4b864a9c",
   "metadata": {},
   "outputs": [],
   "source": [
    "\"\"\"\n",
    "for chunk in pd.read_csv(file_path, sep='\\t', usecols=columnNames, chunksize=chunksize):\n",
    "    # Filter rows where 'countries_en' is 'United States' and 'ingredients_text' is not empty\n",
    "    filtered_chunk = chunk[(chunk['countries_en'].isin(countries_of_interest)) & (chunk['ingredients_text'].notna())]\n",
    "    filtered_chunks.append(filtered_chunk)\n",
    "\"\"\""
   ]
  },
  {
   "cell_type": "code",
   "execution_count": 45,
   "id": "1313f5e1-62f8-43c2-98f9-8e69cdd645ce",
   "metadata": {},
   "outputs": [],
   "source": [
    "# Concatenate all the filtered chunks into a single DataFrame\n",
    "filtered_df = pd.concat(filtered_chunks, ignore_index=True)"
   ]
  },
  {
   "cell_type": "code",
   "execution_count": 46,
   "id": "2ae4506e-62c7-41d2-9329-b3ec73745a5c",
   "metadata": {},
   "outputs": [
    {
     "data": {
      "text/html": [
       "<div>\n",
       "<style scoped>\n",
       "    .dataframe tbody tr th:only-of-type {\n",
       "        vertical-align: middle;\n",
       "    }\n",
       "\n",
       "    .dataframe tbody tr th {\n",
       "        vertical-align: top;\n",
       "    }\n",
       "\n",
       "    .dataframe thead th {\n",
       "        text-align: right;\n",
       "    }\n",
       "</style>\n",
       "<table border=\"1\" class=\"dataframe\">\n",
       "  <thead>\n",
       "    <tr style=\"text-align: right;\">\n",
       "      <th></th>\n",
       "      <th>product_name</th>\n",
       "      <th>countries_en</th>\n",
       "      <th>ingredients_text</th>\n",
       "    </tr>\n",
       "  </thead>\n",
       "  <tbody>\n",
       "    <tr>\n",
       "      <th>0</th>\n",
       "      <td>hyde icon</td>\n",
       "      <td>United States</td>\n",
       "      <td>beta alanine, creatine hcl, ancient peat &amp; app...</td>\n",
       "    </tr>\n",
       "    <tr>\n",
       "      <th>1</th>\n",
       "      <td>Banana Chips Sweetened (Whole)</td>\n",
       "      <td>United States</td>\n",
       "      <td>Bananas, vegetable oil (coconut oil, corn oil ...</td>\n",
       "    </tr>\n",
       "    <tr>\n",
       "      <th>2</th>\n",
       "      <td>Peanuts</td>\n",
       "      <td>United States</td>\n",
       "      <td>Peanuts, wheat flour, sugar, rice flour, tapio...</td>\n",
       "    </tr>\n",
       "    <tr>\n",
       "      <th>3</th>\n",
       "      <td>Organic Salted Nut Mix</td>\n",
       "      <td>United States</td>\n",
       "      <td>Organic hazelnuts, organic cashews, organic wa...</td>\n",
       "    </tr>\n",
       "    <tr>\n",
       "      <th>4</th>\n",
       "      <td>Organic Polenta</td>\n",
       "      <td>United States</td>\n",
       "      <td>Organic polenta</td>\n",
       "    </tr>\n",
       "    <tr>\n",
       "      <th>5</th>\n",
       "      <td>Breadshop Honey Gone Nuts Granola</td>\n",
       "      <td>United States</td>\n",
       "      <td>Rolled oats, grape concentrate, expeller press...</td>\n",
       "    </tr>\n",
       "    <tr>\n",
       "      <th>6</th>\n",
       "      <td>Organic Long Grain White Rice</td>\n",
       "      <td>United States</td>\n",
       "      <td>Organic long grain white rice</td>\n",
       "    </tr>\n",
       "    <tr>\n",
       "      <th>7</th>\n",
       "      <td>Organic Muesli</td>\n",
       "      <td>United States</td>\n",
       "      <td>Org oats, org hemp granola (org oats, evaporat...</td>\n",
       "    </tr>\n",
       "    <tr>\n",
       "      <th>8</th>\n",
       "      <td>Organic Dark Chocolate Minis</td>\n",
       "      <td>United States</td>\n",
       "      <td>Organic chocolate liquor, organic raw cane sug...</td>\n",
       "    </tr>\n",
       "    <tr>\n",
       "      <th>9</th>\n",
       "      <td>Organic Sunflower Oil</td>\n",
       "      <td>United States</td>\n",
       "      <td>Organic expeller pressed, refined high oleic s...</td>\n",
       "    </tr>\n",
       "    <tr>\n",
       "      <th>10</th>\n",
       "      <td>Organic Adzuki Beans</td>\n",
       "      <td>United States</td>\n",
       "      <td>Organic adzuki beans</td>\n",
       "    </tr>\n",
       "    <tr>\n",
       "      <th>11</th>\n",
       "      <td>Organic Penne Pasta</td>\n",
       "      <td>United States</td>\n",
       "      <td>Organic refined durum semolina wheat flour</td>\n",
       "    </tr>\n",
       "    <tr>\n",
       "      <th>12</th>\n",
       "      <td>Zen Party Mix</td>\n",
       "      <td>United States</td>\n",
       "      <td>Roasted peanuts (peanuts, peanut or canola oil...</td>\n",
       "    </tr>\n",
       "    <tr>\n",
       "      <th>13</th>\n",
       "      <td>Organic Golden Flax Seeds</td>\n",
       "      <td>United States</td>\n",
       "      <td>Organic golden flax seeds</td>\n",
       "    </tr>\n",
       "    <tr>\n",
       "      <th>14</th>\n",
       "      <td>Organic Spicy Punks</td>\n",
       "      <td>United States</td>\n",
       "      <td>Organic dry roasted pumpkin seeds, tamari (soy...</td>\n",
       "    </tr>\n",
       "  </tbody>\n",
       "</table>\n",
       "</div>"
      ],
      "text/plain": [
       "                         product_name   countries_en  \\\n",
       "0                           hyde icon  United States   \n",
       "1      Banana Chips Sweetened (Whole)  United States   \n",
       "2                             Peanuts  United States   \n",
       "3              Organic Salted Nut Mix  United States   \n",
       "4                     Organic Polenta  United States   \n",
       "5   Breadshop Honey Gone Nuts Granola  United States   \n",
       "6       Organic Long Grain White Rice  United States   \n",
       "7                      Organic Muesli  United States   \n",
       "8        Organic Dark Chocolate Minis  United States   \n",
       "9               Organic Sunflower Oil  United States   \n",
       "10               Organic Adzuki Beans  United States   \n",
       "11                Organic Penne Pasta  United States   \n",
       "12                      Zen Party Mix  United States   \n",
       "13          Organic Golden Flax Seeds  United States   \n",
       "14                Organic Spicy Punks  United States   \n",
       "\n",
       "                                     ingredients_text  \n",
       "0   beta alanine, creatine hcl, ancient peat & app...  \n",
       "1   Bananas, vegetable oil (coconut oil, corn oil ...  \n",
       "2   Peanuts, wheat flour, sugar, rice flour, tapio...  \n",
       "3   Organic hazelnuts, organic cashews, organic wa...  \n",
       "4                                     Organic polenta  \n",
       "5   Rolled oats, grape concentrate, expeller press...  \n",
       "6                       Organic long grain white rice  \n",
       "7   Org oats, org hemp granola (org oats, evaporat...  \n",
       "8   Organic chocolate liquor, organic raw cane sug...  \n",
       "9   Organic expeller pressed, refined high oleic s...  \n",
       "10                               Organic adzuki beans  \n",
       "11         Organic refined durum semolina wheat flour  \n",
       "12  Roasted peanuts (peanuts, peanut or canola oil...  \n",
       "13                          Organic golden flax seeds  \n",
       "14  Organic dry roasted pumpkin seeds, tamari (soy...  "
      ]
     },
     "execution_count": 46,
     "metadata": {},
     "output_type": "execute_result"
    }
   ],
   "source": [
    "filtered_df.head(15)"
   ]
  },
  {
   "cell_type": "code",
   "execution_count": 14,
   "id": "4f6b225b-0006-441d-8c42-13dc114b7b6a",
   "metadata": {},
   "outputs": [],
   "source": [
    "# Now you can work with the filtered_df DataFrame\n",
    "filtered_df.to_csv(outputFolder+\"food_dataset_updated.csv\",index=False)"
   ]
  },
  {
   "cell_type": "code",
   "execution_count": 28,
   "id": "245f63ff-79dd-4dd2-bb8b-17d22ce00cfa",
   "metadata": {},
   "outputs": [],
   "source": []
  },
  {
   "cell_type": "code",
   "execution_count": null,
   "id": "c4968a25-797c-413d-a7c4-a98146b99a4b",
   "metadata": {},
   "outputs": [],
   "source": []
  }
 ],
 "metadata": {
  "kernelspec": {
   "display_name": "Python 3 (ipykernel)",
   "language": "python",
   "name": "python3"
  },
  "language_info": {
   "codemirror_mode": {
    "name": "ipython",
    "version": 3
   },
   "file_extension": ".py",
   "mimetype": "text/x-python",
   "name": "python",
   "nbconvert_exporter": "python",
   "pygments_lexer": "ipython3",
   "version": "3.9.9"
  }
 },
 "nbformat": 4,
 "nbformat_minor": 5
}
