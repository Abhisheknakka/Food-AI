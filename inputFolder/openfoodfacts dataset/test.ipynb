{
 "cells": [
  {
   "cell_type": "code",
   "execution_count": 3,
   "id": "d6214b47-bc72-443b-979a-f9996b22549a",
   "metadata": {
    "scrolled": true
   },
   "outputs": [
    {
     "name": "stdout",
     "output_type": "stream",
     "text": [
      "Keys in the Full API Response:\n",
      "dict_keys(['code', 'product', 'status', 'status_verbose'])\n",
      "\n",
      "Keys in the Product Section:\n",
      "dict_keys(['_id', '_keywords', 'added_countries_tags', 'additives_n', 'additives_original_tags', 'additives_tags', 'allergens', 'allergens_from_ingredients', 'allergens_from_user', 'allergens_hierarchy', 'allergens_lc', 'allergens_tags', 'amino_acids_prev_tags', 'amino_acids_tags', 'brands', 'brands_tags', 'categories', 'categories_hierarchy', 'categories_lc', 'categories_old', 'categories_properties', 'categories_properties_tags', 'categories_tags', 'category_properties', 'checkers_tags', 'ciqual_food_name_tags', 'cities_tags', 'code', 'codes_tags', 'compared_to_category', 'complete', 'completeness', 'correctors_tags', 'countries', 'countries_beforescanbot', 'countries_hierarchy', 'countries_lc', 'countries_tags', 'created_t', 'creator', 'data_quality_bugs_tags', 'data_quality_errors_tags', 'data_quality_info_tags', 'data_quality_tags', 'data_quality_warnings_tags', 'data_sources', 'data_sources_tags', 'debug_param_sorted_langs', 'ecoscore_data', 'ecoscore_extended_data', 'ecoscore_extended_data_version', 'ecoscore_grade', 'ecoscore_tags', 'editors_tags', 'emb_codes', 'emb_codes_orig', 'emb_codes_tags', 'entry_dates_tags', 'environment_impact_level', 'environment_impact_level_tags', 'expiration_date', 'food_groups', 'food_groups_tags', 'fruits-vegetables-nuts_100g_estimate', 'generic_name', 'generic_name_en', 'generic_name_es', 'generic_name_fr', 'generic_name_hr', 'id', 'image_front_small_url', 'image_front_thumb_url', 'image_front_url', 'image_ingredients_small_url', 'image_ingredients_thumb_url', 'image_ingredients_url', 'image_nutrition_small_url', 'image_nutrition_thumb_url', 'image_nutrition_url', 'image_packaging_small_url', 'image_packaging_thumb_url', 'image_packaging_url', 'image_small_url', 'image_thumb_url', 'image_url', 'images', 'informers_tags', 'ingredients', 'ingredients_analysis', 'ingredients_analysis_tags', 'ingredients_debug', 'ingredients_from_or_that_may_be_from_palm_oil_n', 'ingredients_from_palm_oil_n', 'ingredients_from_palm_oil_tags', 'ingredients_hierarchy', 'ingredients_ids_debug', 'ingredients_lc', 'ingredients_n', 'ingredients_n_tags', 'ingredients_non_nutritive_sweeteners_n', 'ingredients_original_tags', 'ingredients_percent_analysis', 'ingredients_sweeteners_n', 'ingredients_tags', 'ingredients_text', 'ingredients_text_debug', 'ingredients_text_en', 'ingredients_text_es', 'ingredients_text_fr', 'ingredients_text_hr', 'ingredients_text_with_allergens', 'ingredients_text_with_allergens_en', 'ingredients_text_with_allergens_es', 'ingredients_text_with_allergens_fr', 'ingredients_text_with_allergens_hr', 'ingredients_that_may_be_from_palm_oil_n', 'ingredients_that_may_be_from_palm_oil_tags', 'ingredients_with_specified_percent_n', 'ingredients_with_specified_percent_sum', 'ingredients_with_unspecified_percent_n', 'ingredients_with_unspecified_percent_sum', 'ingredients_without_ciqual_codes', 'ingredients_without_ciqual_codes_n', 'interface_version_created', 'interface_version_modified', 'known_ingredients_n', 'labels', 'labels_hierarchy', 'labels_lc', 'labels_old', 'labels_tags', 'lang', 'languages', 'languages_codes', 'languages_hierarchy', 'languages_tags', 'last_edit_dates_tags', 'last_editor', 'last_image_dates_tags', 'last_image_t', 'last_modified_by', 'last_modified_t', 'last_updated_t', 'lc', 'link', 'main_countries_tags', 'manufacturing_places', 'manufacturing_places_tags', 'max_imgid', 'minerals_prev_tags', 'minerals_tags', 'misc_tags', 'no_nutrition_data', 'nova_group', 'nova_group_debug', 'nova_groups', 'nova_groups_markers', 'nova_groups_tags', 'nucleotides_prev_tags', 'nucleotides_tags', 'nutrient_levels', 'nutrient_levels_tags', 'nutriments', 'nutriscore', 'nutriscore_2021_tags', 'nutriscore_2023_tags', 'nutriscore_data', 'nutriscore_grade', 'nutriscore_score', 'nutriscore_score_opposite', 'nutriscore_tags', 'nutriscore_version', 'nutrition_data', 'nutrition_data_per', 'nutrition_data_prepared', 'nutrition_data_prepared_per', 'nutrition_grade_fr', 'nutrition_grades', 'nutrition_grades_tags', 'nutrition_score_beverage', 'nutrition_score_debug', 'nutrition_score_warning_fruits_vegetables_legumes_estimate_from_ingredients', 'nutrition_score_warning_fruits_vegetables_legumes_estimate_from_ingredients_value', 'nutrition_score_warning_fruits_vegetables_nuts_estimate_from_ingredients', 'nutrition_score_warning_fruits_vegetables_nuts_estimate_from_ingredients_value', 'obsolete', 'obsolete_since_date', 'origin', 'origin_en', 'origin_es', 'origin_fr', 'origin_hr', 'origins', 'origins_hierarchy', 'origins_lc', 'origins_old', 'origins_tags', 'other_nutritional_substances_tags', 'packaging', 'packaging_hierarchy', 'packaging_lc', 'packaging_materials_tags', 'packaging_old', 'packaging_old_before_taxonomization', 'packaging_recycling_tags', 'packaging_shapes_tags', 'packaging_tags', 'packaging_text', 'packaging_text_en', 'packaging_text_es', 'packaging_text_fr', 'packaging_text_hr', 'packagings', 'packagings_complete', 'packagings_materials', 'packagings_materials_main', 'packagings_n', 'photographers_tags', 'pnns_groups_1', 'pnns_groups_1_tags', 'pnns_groups_2', 'pnns_groups_2_tags', 'popularity_key', 'popularity_tags', 'product_name', 'product_name_en', 'product_name_es', 'product_name_fr', 'product_name_hr', 'product_quantity', 'product_quantity_unit', 'purchase_places', 'purchase_places_tags', 'quantity', 'removed_countries_tags', 'rev', 'scans_n', 'selected_images', 'serving_quantity', 'serving_quantity_unit', 'serving_size', 'sortkey', 'states', 'states_hierarchy', 'states_tags', 'stores', 'stores_tags', 'teams', 'teams_tags', 'traces', 'traces_from_ingredients', 'traces_from_user', 'traces_hierarchy', 'traces_lc', 'traces_tags', 'unique_scans_n', 'unknown_ingredients_n', 'unknown_nutrients_tags', 'update_key', 'vitamins_prev_tags', 'vitamins_tags', 'weighers_tags', 'weighters_tags'])\n"
     ]
    }
   ],
   "source": [
    "import requests\n",
    "\n",
    "# Replace with an actual barcode if needed\n",
    "barcode = '5449000214911'  \n",
    "\n",
    "# Fetch a single product by barcode\n",
    "response = requests.get(f\"https://world.openfoodfacts.org/api/v0/product/{barcode}.json\")\n",
    "\n",
    "\n",
    "if response.status_code == 200:\n",
    "    product_data = response.json()\n",
    "    \n",
    "    # Extract keys from the entire API response\n",
    "    all_keys = product_data.keys()\n",
    "    print(\"Keys in the Full API Response:\")\n",
    "    print(all_keys)\n",
    "    \n",
    "    # Extract keys from the 'product' section\n",
    "    product_data_section = product_data.get('product', {})\n",
    "    product_keys = product_data_section.keys()\n",
    "    print(\"\\nKeys in the Product Section:\")\n",
    "    print(product_keys)\n",
    "else:\n",
    "    print(f\"Failed to fetch data. Status code: {response.status_code}\")"
   ]
  },
  {
   "cell_type": "code",
   "execution_count": 4,
   "id": "cf2586f1-9b4b-418a-810f-dece0fad7884",
   "metadata": {},
   "outputs": [
    {
     "ename": "TypeError",
     "evalue": "__init__() missing 1 required positional argument: 'user_agent'",
     "output_type": "error",
     "traceback": [
      "\u001b[1;31m---------------------------------------------------------------------------\u001b[0m",
      "\u001b[1;31mTypeError\u001b[0m                                 Traceback (most recent call last)",
      "Cell \u001b[1;32mIn[4], line 5\u001b[0m\n\u001b[0;32m      2\u001b[0m \u001b[38;5;28;01mimport\u001b[39;00m \u001b[38;5;21;01mpandas\u001b[39;00m \u001b[38;5;28;01mas\u001b[39;00m \u001b[38;5;21;01mpd\u001b[39;00m\n\u001b[0;32m      4\u001b[0m \u001b[38;5;66;03m# Initialize the API\u001b[39;00m\n\u001b[1;32m----> 5\u001b[0m api \u001b[38;5;241m=\u001b[39m \u001b[43mopenfoodfacts\u001b[49m\u001b[38;5;241;43m.\u001b[39;49m\u001b[43mAPI\u001b[49m\u001b[43m(\u001b[49m\u001b[43m)\u001b[49m\n\u001b[0;32m      7\u001b[0m \u001b[38;5;66;03m# Replace with an actual barcode if needed\u001b[39;00m\n\u001b[0;32m      8\u001b[0m barcode \u001b[38;5;241m=\u001b[39m \u001b[38;5;124m'\u001b[39m\u001b[38;5;124m5449000214911\u001b[39m\u001b[38;5;124m'\u001b[39m\n",
      "\u001b[1;31mTypeError\u001b[0m: __init__() missing 1 required positional argument: 'user_agent'"
     ]
    }
   ],
   "source": [
    "import openfoodfacts\n",
    "import pandas as pd\n",
    "\n",
    "# Initialize the API\n",
    "api = openfoodfacts.API()\n",
    "\n",
    "# Replace with an actual barcode if needed\n",
    "barcode = '5449000214911'\n",
    "\n",
    "# Fetch product data\n",
    "product_data = api.get_product(barcode)\n",
    "\n",
    "if product_data:\n",
    "    # Extract the 'product' section\n",
    "    product = product_data.get('product', {})\n",
    "    \n",
    "    # Extract specific fields\n",
    "    product_name = product.get('product_name', 'No name')\n",
    "    ingredients = product.get('ingredients_text', 'No ingredients available')\n",
    "    \n",
    "    # Create a DataFrame\n",
    "    df_product = pd.DataFrame([{\n",
    "        'Product Name': product_name,\n",
    "        'Ingredients': ingredients\n",
    "    }])\n",
    "    \n",
    "    # Display the DataFrame\n",
    "    print(df_product)\n",
    "else:\n",
    "    print(\"Failed to fetch product data.\")\n"
   ]
  },
  {
   "cell_type": "code",
   "execution_count": null,
   "id": "d7c266c1-533e-4bdd-bb19-7a053d0af528",
   "metadata": {},
   "outputs": [],
   "source": []
  }
 ],
 "metadata": {
  "kernelspec": {
   "display_name": "Python 3 (ipykernel)",
   "language": "python",
   "name": "python3"
  },
  "language_info": {
   "codemirror_mode": {
    "name": "ipython",
    "version": 3
   },
   "file_extension": ".py",
   "mimetype": "text/x-python",
   "name": "python",
   "nbconvert_exporter": "python",
   "pygments_lexer": "ipython3",
   "version": "3.9.9"
  }
 },
 "nbformat": 4,
 "nbformat_minor": 5
}
