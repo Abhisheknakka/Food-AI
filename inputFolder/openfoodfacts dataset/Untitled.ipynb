{
 "cells": [
  {
   "cell_type": "code",
   "execution_count": 4,
   "id": "e4dd4cf1-4357-4c75-aea3-7cc2a5ed5842",
   "metadata": {},
   "outputs": [
    {
     "name": "stdout",
     "output_type": "stream",
     "text": [
      "['API', 'APIConfig', 'APIVersion', 'Country', 'DatasetType', 'Environment', 'Facet', 'Flavor', 'Lang', 'OCRResult', 'ProductDataset', '__all__', '__builtins__', '__cached__', '__doc__', '__file__', '__loader__', '__name__', '__package__', '__path__', '__spec__', '__version__', 'api', 'dataset', 'get_dataset', 'ocr', 'types', 'utils']\n"
     ]
    }
   ],
   "source": [
    "import openfoodfacts\n",
    "import pandas as pd\n",
    "\n",
    "    # List available attributes and methods in the library\n",
    "    \n",
    "    print(dir(openfoodfacts))\n"
   ]
  },
  {
   "cell_type": "code",
   "execution_count": 5,
   "id": "d6fd6264-8d60-4cac-a689-c6e9ab2a3872",
   "metadata": {},
   "outputs": [
    {
     "name": "stdout",
     "output_type": "stream",
     "text": [
      "Page 1 processed, 100 barcodes collected so far.\n",
      "Page 2 processed, 200 barcodes collected so far.\n",
      "Page 3 processed, 300 barcodes collected so far.\n",
      "Page 4 processed, 400 barcodes collected so far.\n",
      "Page 5 processed, 500 barcodes collected so far.\n",
      "Page 6 processed, 600 barcodes collected so far.\n",
      "Page 7 processed, 700 barcodes collected so far.\n",
      "Page 8 processed, 800 barcodes collected so far.\n",
      "Page 9 processed, 900 barcodes collected so far.\n",
      "Page 10 processed, 1000 barcodes collected so far.\n",
      "Page 11 processed, 1100 barcodes collected so far.\n",
      "Page 12 processed, 1200 barcodes collected so far.\n",
      "Page 13 processed, 1300 barcodes collected so far.\n",
      "Page 14 processed, 1400 barcodes collected so far.\n",
      "Page 15 processed, 1500 barcodes collected so far.\n",
      "Page 16 processed, 1600 barcodes collected so far.\n",
      "Page 17 processed, 1700 barcodes collected so far.\n",
      "Page 18 processed, 1800 barcodes collected so far.\n",
      "Page 19 processed, 1900 barcodes collected so far.\n",
      "Page 20 processed, 2000 barcodes collected so far.\n",
      "Page 21 processed, 2100 barcodes collected so far.\n",
      "Page 22 processed, 2200 barcodes collected so far.\n",
      "Page 23 processed, 2300 barcodes collected so far.\n",
      "Page 24 processed, 2400 barcodes collected so far.\n",
      "Page 25 processed, 2500 barcodes collected so far.\n",
      "Page 26 processed, 2600 barcodes collected so far.\n",
      "Page 27 processed, 2700 barcodes collected so far.\n",
      "Page 28 processed, 2800 barcodes collected so far.\n",
      "Page 29 processed, 2900 barcodes collected so far.\n",
      "Page 30 processed, 3000 barcodes collected so far.\n",
      "Page 31 processed, 3100 barcodes collected so far.\n",
      "Page 32 processed, 3200 barcodes collected so far.\n",
      "Page 33 processed, 3300 barcodes collected so far.\n",
      "Page 34 processed, 3400 barcodes collected so far.\n",
      "Page 35 processed, 3500 barcodes collected so far.\n",
      "Page 36 processed, 3600 barcodes collected so far.\n",
      "Page 37 processed, 3700 barcodes collected so far.\n",
      "Page 38 processed, 3800 barcodes collected so far.\n",
      "Page 39 processed, 3900 barcodes collected so far.\n",
      "Page 40 processed, 4000 barcodes collected so far.\n",
      "Page 41 processed, 4100 barcodes collected so far.\n",
      "Page 42 processed, 4200 barcodes collected so far.\n",
      "Page 43 processed, 4300 barcodes collected so far.\n",
      "Page 44 processed, 4400 barcodes collected so far.\n",
      "Page 45 processed, 4500 barcodes collected so far.\n",
      "Page 46 processed, 4600 barcodes collected so far.\n",
      "Page 47 processed, 4700 barcodes collected so far.\n",
      "Page 48 processed, 4800 barcodes collected so far.\n",
      "Page 49 processed, 4900 barcodes collected so far.\n",
      "Page 50 processed, 5000 barcodes collected so far.\n",
      "Page 51 processed, 5100 barcodes collected so far.\n",
      "Failed to fetch page 52. Status code: 429\n"
     ]
    },
    {
     "data": {
      "text/html": [
       "<div>\n",
       "<style scoped>\n",
       "    .dataframe tbody tr th:only-of-type {\n",
       "        vertical-align: middle;\n",
       "    }\n",
       "\n",
       "    .dataframe tbody tr th {\n",
       "        vertical-align: top;\n",
       "    }\n",
       "\n",
       "    .dataframe thead th {\n",
       "        text-align: right;\n",
       "    }\n",
       "</style>\n",
       "<table border=\"1\" class=\"dataframe\">\n",
       "  <thead>\n",
       "    <tr style=\"text-align: right;\">\n",
       "      <th></th>\n",
       "      <th>Barcode</th>\n",
       "    </tr>\n",
       "  </thead>\n",
       "  <tbody>\n",
       "    <tr>\n",
       "      <th>0</th>\n",
       "      <td>3274080005003</td>\n",
       "    </tr>\n",
       "    <tr>\n",
       "      <th>1</th>\n",
       "      <td>7622210449283</td>\n",
       "    </tr>\n",
       "    <tr>\n",
       "      <th>2</th>\n",
       "      <td>3017620425035</td>\n",
       "    </tr>\n",
       "    <tr>\n",
       "      <th>3</th>\n",
       "      <td>3175680011480</td>\n",
       "    </tr>\n",
       "    <tr>\n",
       "      <th>4</th>\n",
       "      <td>5449000214911</td>\n",
       "    </tr>\n",
       "  </tbody>\n",
       "</table>\n",
       "</div>"
      ],
      "text/plain": [
       "         Barcode\n",
       "0  3274080005003\n",
       "1  7622210449283\n",
       "2  3017620425035\n",
       "3  3175680011480\n",
       "4  5449000214911"
      ]
     },
     "execution_count": 5,
     "metadata": {},
     "output_type": "execute_result"
    }
   ],
   "source": [
    "import requests\n",
    "import pandas as pd\n",
    "\n",
    "# Initialize an empty list to store barcodes\n",
    "barcodes = []\n",
    "\n",
    "# Parameters for pagination\n",
    "page_number = 1\n",
    "page_size = 100  # Number of products per request\n",
    "\n",
    "while True:\n",
    "    params = {\n",
    "        'search_terms': '',  # No search terms to get all products\n",
    "        'page_size': page_size,\n",
    "        'page': page_number,\n",
    "        'json': 1  # Request results in JSON format\n",
    "    }\n",
    "    \n",
    "    response = requests.get(\"https://world.openfoodfacts.org/cgi/search.pl\", params=params)\n",
    "    \n",
    "    if response.status_code != 200:\n",
    "        print(f\"Failed to fetch page {page_number}. Status code: {response.status_code}\")\n",
    "        break  # Stop if request fails\n",
    "    \n",
    "    products = response.json().get('products', [])\n",
    "    \n",
    "    if not products:\n",
    "        print(\"No more products found. Stopping collection.\")\n",
    "        break  # Stop if no more products\n",
    "    \n",
    "    for product in products:\n",
    "        barcode = product.get('code')\n",
    "        if barcode:\n",
    "            barcodes.append(barcode)\n",
    "    \n",
    "    print(f\"Page {page_number} processed, {len(barcodes)} barcodes collected so far.\")\n",
    "    page_number += 1\n",
    "\n",
    "# Convert the barcodes to a Pandas DataFrame\n",
    "df_barcodes = pd.DataFrame(barcodes, columns=['Barcode'])\n",
    "\n",
    "# Display the first few rows of the DataFrame\n",
    "df_barcodes.head()\n"
   ]
  },
  {
   "cell_type": "code",
   "execution_count": 8,
   "id": "1a9fe9ec-7530-41a2-823e-b4d86c40aa73",
   "metadata": {},
   "outputs": [
    {
     "data": {
      "text/plain": [
       "5100"
      ]
     },
     "execution_count": 8,
     "metadata": {},
     "output_type": "execute_result"
    }
   ],
   "source": [
    "df_barcodes.shape[0]"
   ]
  },
  {
   "cell_type": "code",
   "execution_count": 9,
   "id": "7c3b0742-0321-4349-872f-65099de4d814",
   "metadata": {},
   "outputs": [],
   "source": [
    "df_barcodes.to_csv('barcodes_v2.csv', index=False)"
   ]
  },
  {
   "cell_type": "code",
   "execution_count": null,
   "id": "2692638b-7734-4baa-9f14-7b0cb6325dce",
   "metadata": {},
   "outputs": [],
   "source": [
    "# DataFrame to store food items and ingredients\n",
    "food_data = []\n",
    "\n",
    "for barcode in df_barcodes['Barcode']:\n",
    "    response = requests.get(f\"https://world.openfoodfacts.org/api/v0/product/{barcode}.json\")\n",
    "    \n",
    "    if response.status_code == 200:\n",
    "        product_data = response.json()\n",
    "        \n",
    "        if product_data['status'] == 1:\n",
    "            product = product_data['product']\n",
    "            food_item = product.get('product_name', 'No name')\n",
    "            ingredients = product.get('ingredients_text', 'No ingredients available')\n",
    "            food_data.append([food_item, ingredients])\n",
    "    \n",
    "# Convert the food items and ingredients into a DataFrame\n",
    "df_food = pd.DataFrame(food_data, columns=['Food Item', 'Ingredients'])\n",
    "\n",
    "# Display the first few rows of the DataFrame\n",
    "df_food.head()\n"
   ]
  },
  {
   "cell_type": "code",
   "execution_count": null,
   "id": "0e3a09c7-88b0-4ecc-9a50-e3754b9e5299",
   "metadata": {},
   "outputs": [],
   "source": [
    "df_food.to_csv('sf_foods_v2.csv', index=False)"
   ]
  },
  {
   "cell_type": "code",
   "execution_count": null,
   "id": "43f63b81-eb96-4608-b9d1-b4d9b21a7de6",
   "metadata": {},
   "outputs": [],
   "source": []
  }
 ],
 "metadata": {
  "kernelspec": {
   "display_name": "Python 3 (ipykernel)",
   "language": "python",
   "name": "python3"
  },
  "language_info": {
   "codemirror_mode": {
    "name": "ipython",
    "version": 3
   },
   "file_extension": ".py",
   "mimetype": "text/x-python",
   "name": "python",
   "nbconvert_exporter": "python",
   "pygments_lexer": "ipython3",
   "version": "3.9.9"
  }
 },
 "nbformat": 4,
 "nbformat_minor": 5
}
