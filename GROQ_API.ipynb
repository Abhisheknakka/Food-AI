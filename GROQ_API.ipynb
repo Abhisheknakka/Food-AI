{
 "cells": [
  {
   "cell_type": "code",
   "execution_count": 1,
   "id": "9b141db2-9224-40c4-8d06-64ed82166917",
   "metadata": {},
   "outputs": [],
   "source": [
    "import os\n",
    "import pandas as pd\n",
    "from groq import Groq\n",
    "import openai"
   ]
  },
  {
   "cell_type": "code",
   "execution_count": 3,
   "id": "8a35ece3-ca33-43e5-8824-caea1256e978",
   "metadata": {},
   "outputs": [],
   "source": [
    "#Step 1 Load the dataset\n",
    "file_path = \"D:/Projects/Food-AI/inputFolder/varad/\"\n",
    "\n",
    "# Use appropriate encoding if needed\n",
    "df = pd.read_csv(file_path+'food_dataset_updated.csv', encoding='ISO-8859-1')"
   ]
  },
  {
   "cell_type": "code",
   "execution_count": 4,
   "id": "d81c39de-1f93-4e3d-8094-cdf94d6cc2ba",
   "metadata": {},
   "outputs": [
    {
     "data": {
      "text/html": [
       "<div>\n",
       "<style scoped>\n",
       "    .dataframe tbody tr th:only-of-type {\n",
       "        vertical-align: middle;\n",
       "    }\n",
       "\n",
       "    .dataframe tbody tr th {\n",
       "        vertical-align: top;\n",
       "    }\n",
       "\n",
       "    .dataframe thead th {\n",
       "        text-align: right;\n",
       "    }\n",
       "</style>\n",
       "<table border=\"1\" class=\"dataframe\">\n",
       "  <thead>\n",
       "    <tr style=\"text-align: right;\">\n",
       "      <th></th>\n",
       "      <th>product_name</th>\n",
       "      <th>ingredients</th>\n",
       "    </tr>\n",
       "  </thead>\n",
       "  <tbody>\n",
       "    <tr>\n",
       "      <th>0</th>\n",
       "      <td>hyde icon</td>\n",
       "      <td>beta alanine, creatine hcl, ancient peat &amp; app...</td>\n",
       "    </tr>\n",
       "    <tr>\n",
       "      <th>1</th>\n",
       "      <td>Banana Chips Sweetened (Whole)</td>\n",
       "      <td>bananas, vegetable oil (coconut oil, corn oil ...</td>\n",
       "    </tr>\n",
       "    <tr>\n",
       "      <th>2</th>\n",
       "      <td>Peanuts</td>\n",
       "      <td>peanuts, wheat flour, sugar, rice flour, tapio...</td>\n",
       "    </tr>\n",
       "    <tr>\n",
       "      <th>3</th>\n",
       "      <td>Organic Salted Nut Mix</td>\n",
       "      <td>organic hazelnuts, organic cashews, organic wa...</td>\n",
       "    </tr>\n",
       "    <tr>\n",
       "      <th>4</th>\n",
       "      <td>Organic Polenta</td>\n",
       "      <td>organic polenta</td>\n",
       "    </tr>\n",
       "  </tbody>\n",
       "</table>\n",
       "</div>"
      ],
      "text/plain": [
       "                     product_name  \\\n",
       "0                       hyde icon   \n",
       "1  Banana Chips Sweetened (Whole)   \n",
       "2                         Peanuts   \n",
       "3          Organic Salted Nut Mix   \n",
       "4                 Organic Polenta   \n",
       "\n",
       "                                         ingredients  \n",
       "0  beta alanine, creatine hcl, ancient peat & app...  \n",
       "1  bananas, vegetable oil (coconut oil, corn oil ...  \n",
       "2  peanuts, wheat flour, sugar, rice flour, tapio...  \n",
       "3  organic hazelnuts, organic cashews, organic wa...  \n",
       "4                                    organic polenta  "
      ]
     },
     "execution_count": 4,
     "metadata": {},
     "output_type": "execute_result"
    }
   ],
   "source": [
    "df.head()"
   ]
  },
  {
   "cell_type": "code",
   "execution_count": 5,
   "id": "6736dfc5-604f-4f13-b876-643533d344b9",
   "metadata": {},
   "outputs": [
    {
     "data": {
      "text/plain": [
       "True"
      ]
     },
     "execution_count": 5,
     "metadata": {},
     "output_type": "execute_result"
    }
   ],
   "source": [
    "#pip install python-dotenv\n",
    "# Step 2: loading api key from .env file\n",
    "\n",
    "from dotenv import load_dotenv\n",
    "import os\n",
    "\n",
    "load_dotenv()  # Load the variables from .env file"
   ]
  },
  {
   "cell_type": "code",
   "execution_count": 6,
   "id": "4b44b0a8-977d-43c1-a156-3be07dc1c625",
   "metadata": {},
   "outputs": [],
   "source": [
    "# GROQ API\n",
    "api_key = os.getenv(\"GROQ_API_KEY\")\n",
    "client = Groq(api_key=api_key)"
   ]
  },
  {
   "cell_type": "code",
   "execution_count": 7,
   "id": "e2bdde96-f996-4baa-84fc-5dcea4987f03",
   "metadata": {},
   "outputs": [
    {
     "data": {
      "text/plain": [
       "<groq.Groq at 0x1480c2689e0>"
      ]
     },
     "execution_count": 7,
     "metadata": {},
     "output_type": "execute_result"
    }
   ],
   "source": [
    "client"
   ]
  },
  {
   "cell_type": "code",
   "execution_count": 8,
   "id": "be99f146-fef2-4a55-82da-63e59cf8b725",
   "metadata": {},
   "outputs": [
    {
     "data": {
      "text/html": [
       "<div>\n",
       "<style scoped>\n",
       "    .dataframe tbody tr th:only-of-type {\n",
       "        vertical-align: middle;\n",
       "    }\n",
       "\n",
       "    .dataframe tbody tr th {\n",
       "        vertical-align: top;\n",
       "    }\n",
       "\n",
       "    .dataframe thead th {\n",
       "        text-align: right;\n",
       "    }\n",
       "</style>\n",
       "<table border=\"1\" class=\"dataframe\">\n",
       "  <thead>\n",
       "    <tr style=\"text-align: right;\">\n",
       "      <th></th>\n",
       "      <th>product_name</th>\n",
       "      <th>ingredients</th>\n",
       "    </tr>\n",
       "  </thead>\n",
       "  <tbody>\n",
       "    <tr>\n",
       "      <th>1</th>\n",
       "      <td>Banana Chips Sweetened (Whole)</td>\n",
       "      <td>bananas, vegetable oil (coconut oil, corn oil ...</td>\n",
       "    </tr>\n",
       "    <tr>\n",
       "      <th>2</th>\n",
       "      <td>Peanuts</td>\n",
       "      <td>peanuts, wheat flour, sugar, rice flour, tapio...</td>\n",
       "    </tr>\n",
       "    <tr>\n",
       "      <th>3</th>\n",
       "      <td>Organic Salted Nut Mix</td>\n",
       "      <td>organic hazelnuts, organic cashews, organic wa...</td>\n",
       "    </tr>\n",
       "    <tr>\n",
       "      <th>4</th>\n",
       "      <td>Organic Polenta</td>\n",
       "      <td>organic polenta</td>\n",
       "    </tr>\n",
       "    <tr>\n",
       "      <th>5</th>\n",
       "      <td>Breadshop Honey Gone Nuts Granola</td>\n",
       "      <td>rolled oats, grape concentrate, expeller press...</td>\n",
       "    </tr>\n",
       "    <tr>\n",
       "      <th>6</th>\n",
       "      <td>Organic Long Grain White Rice</td>\n",
       "      <td>organic long grain white rice</td>\n",
       "    </tr>\n",
       "    <tr>\n",
       "      <th>7</th>\n",
       "      <td>Organic Muesli</td>\n",
       "      <td>org oats, org hemp granola (org oats, evaporat...</td>\n",
       "    </tr>\n",
       "    <tr>\n",
       "      <th>8</th>\n",
       "      <td>Organic Dark Chocolate Minis</td>\n",
       "      <td>organic chocolate liquor, organic raw cane sug...</td>\n",
       "    </tr>\n",
       "    <tr>\n",
       "      <th>9</th>\n",
       "      <td>Organic Sunflower Oil</td>\n",
       "      <td>organic expeller pressed, refined high oleic s...</td>\n",
       "    </tr>\n",
       "    <tr>\n",
       "      <th>10</th>\n",
       "      <td>Organic Adzuki Beans</td>\n",
       "      <td>organic adzuki beans</td>\n",
       "    </tr>\n",
       "    <tr>\n",
       "      <th>11</th>\n",
       "      <td>Organic Penne Pasta</td>\n",
       "      <td>organic refined durum semolina wheat flour</td>\n",
       "    </tr>\n",
       "    <tr>\n",
       "      <th>12</th>\n",
       "      <td>Zen Party Mix</td>\n",
       "      <td>roasted peanuts (peanuts, peanut or canola oil...</td>\n",
       "    </tr>\n",
       "    <tr>\n",
       "      <th>13</th>\n",
       "      <td>Organic Golden Flax Seeds</td>\n",
       "      <td>organic golden flax seeds</td>\n",
       "    </tr>\n",
       "    <tr>\n",
       "      <th>14</th>\n",
       "      <td>Organic Spicy Punks</td>\n",
       "      <td>organic dry roasted pumpkin seeds, tamari (soy...</td>\n",
       "    </tr>\n",
       "    <tr>\n",
       "      <th>15</th>\n",
       "      <td>Cinnamon Nut Granola</td>\n",
       "      <td>organic rolled oats, honey, raisins, almonds, ...</td>\n",
       "    </tr>\n",
       "    <tr>\n",
       "      <th>16</th>\n",
       "      <td>Organic Hazelnuts</td>\n",
       "      <td>organic raw hazelnuts</td>\n",
       "    </tr>\n",
       "    <tr>\n",
       "      <th>17</th>\n",
       "      <td>Organic Sweetened Banana Chips</td>\n",
       "      <td>organic bananas, organic coconut oil, organic ...</td>\n",
       "    </tr>\n",
       "    <tr>\n",
       "      <th>18</th>\n",
       "      <td>Lotus Organic Brown Jasmine Rice</td>\n",
       "      <td>organic brown jasmine rice</td>\n",
       "    </tr>\n",
       "    <tr>\n",
       "      <th>19</th>\n",
       "      <td>Organic Oat Groats</td>\n",
       "      <td>organic oat groats</td>\n",
       "    </tr>\n",
       "  </tbody>\n",
       "</table>\n",
       "</div>"
      ],
      "text/plain": [
       "                         product_name  \\\n",
       "1      Banana Chips Sweetened (Whole)   \n",
       "2                             Peanuts   \n",
       "3              Organic Salted Nut Mix   \n",
       "4                     Organic Polenta   \n",
       "5   Breadshop Honey Gone Nuts Granola   \n",
       "6       Organic Long Grain White Rice   \n",
       "7                      Organic Muesli   \n",
       "8        Organic Dark Chocolate Minis   \n",
       "9               Organic Sunflower Oil   \n",
       "10               Organic Adzuki Beans   \n",
       "11                Organic Penne Pasta   \n",
       "12                      Zen Party Mix   \n",
       "13          Organic Golden Flax Seeds   \n",
       "14                Organic Spicy Punks   \n",
       "15               Cinnamon Nut Granola   \n",
       "16                  Organic Hazelnuts   \n",
       "17     Organic Sweetened Banana Chips   \n",
       "18   Lotus Organic Brown Jasmine Rice   \n",
       "19                 Organic Oat Groats   \n",
       "\n",
       "                                          ingredients  \n",
       "1   bananas, vegetable oil (coconut oil, corn oil ...  \n",
       "2   peanuts, wheat flour, sugar, rice flour, tapio...  \n",
       "3   organic hazelnuts, organic cashews, organic wa...  \n",
       "4                                     organic polenta  \n",
       "5   rolled oats, grape concentrate, expeller press...  \n",
       "6                       organic long grain white rice  \n",
       "7   org oats, org hemp granola (org oats, evaporat...  \n",
       "8   organic chocolate liquor, organic raw cane sug...  \n",
       "9   organic expeller pressed, refined high oleic s...  \n",
       "10                               organic adzuki beans  \n",
       "11         organic refined durum semolina wheat flour  \n",
       "12  roasted peanuts (peanuts, peanut or canola oil...  \n",
       "13                          organic golden flax seeds  \n",
       "14  organic dry roasted pumpkin seeds, tamari (soy...  \n",
       "15  organic rolled oats, honey, raisins, almonds, ...  \n",
       "16                              organic raw hazelnuts  \n",
       "17  organic bananas, organic coconut oil, organic ...  \n",
       "18                         organic brown jasmine rice  \n",
       "19                                 organic oat groats  "
      ]
     },
     "execution_count": 8,
     "metadata": {},
     "output_type": "execute_result"
    }
   ],
   "source": [
    "df = df[1:20]\n",
    "df"
   ]
  },
  {
   "cell_type": "code",
   "execution_count": 9,
   "id": "3ade9977-532f-4708-9830-4f3263be3bf2",
   "metadata": {},
   "outputs": [],
   "source": [
    "# Step 3: Function to analyze ingredients using GROQ API\n",
    "def analyze_ingredients(product_name, ingredients):\n",
    "    prompt = f\"\"\"\n",
    "    Imagine you are a highly trained nutritionist with the highest knowledge on nutrient breakdown of products. Identify which ingredients are harmful and which are not. \n",
    "    Your task is to give a list and write a summary of which ingredients are good and which are not good from the list in very few words precisely. Arrange good and bad ingredients separately. Give a simple summary mainly focus on the preservatives.\n",
    "    The food item is: {product_name}\n",
    "    Ingredients: {ingredients}\n",
    "    \"\"\"\n",
    "    chat_completion = client.chat.completions.create(\n",
    "        messages=[{\"role\": \"user\", \"content\": prompt}],\n",
    "        model=\"llama3-8b-8192\",\n",
    "    )\n",
    "    \n",
    "    return chat_completion.choices[0].message.content"
   ]
  },
  {
   "cell_type": "code",
   "execution_count": 10,
   "id": "6e577161-732d-49fe-94d3-27d69050fb67",
   "metadata": {},
   "outputs": [],
   "source": [
    "# Step 4: Load and process data in chunks\n",
    "chunk_size = 20  # You can adjust the chunk size depending on memory capacity\n",
    "total_rows = len(df)\n"
   ]
  },
  {
   "cell_type": "code",
   "execution_count": 14,
   "id": "78e59c71-b8e6-4688-931f-2b5d90c13716",
   "metadata": {},
   "outputs": [],
   "source": [
    "# Step 5: # Initialize the output file with headers\n",
    "# Output file\n",
    "output_file = 'updated_food_analysis_with_GROQ_response.csv'\n",
    "\n",
    "with open(output_file, 'w') as f:\n",
    "    f.write('product_name,ingredients,GROQ_Response\\n')\n"
   ]
  },
  {
   "cell_type": "code",
   "execution_count": 18,
   "id": "7af7af24-4dab-4efc-812e-690230f3e5dd",
   "metadata": {},
   "outputs": [
    {
     "name": "stdout",
     "output_type": "stream",
     "text": [
      "Processed and appended rows 0 to 18 to updated_food_analysis_with_GROQ_response.csv\n",
      "All chunks processed and results saved to updated_food_analysis_with_GROQ_response.csv\n"
     ]
    },
    {
     "name": "stderr",
     "output_type": "stream",
     "text": [
      "C:\\Users\\nakka\\AppData\\Local\\Temp\\ipykernel_11084\\2363717144.py:6: SettingWithCopyWarning: \n",
      "A value is trying to be set on a copy of a slice from a DataFrame.\n",
      "Try using .loc[row_indexer,col_indexer] = value instead\n",
      "\n",
      "See the caveats in the documentation: https://pandas.pydata.org/pandas-docs/stable/user_guide/indexing.html#returning-a-view-versus-a-copy\n",
      "  df_chunk['GROQ_Response'] = df_chunk.apply(lambda row: analyze_ingredients(row['product_name'], row['ingredients']), axis=1)\n"
     ]
    }
   ],
   "source": [
    "# Step 6:  Process the data chunk by chunk\n",
    "for start in range(0, total_rows, chunk_size):\n",
    "    end = min(start + chunk_size, total_rows)\n",
    "    df_chunk = df.iloc[start:end]\n",
    "    \n",
    "    df_chunk['GROQ_Response'] = df_chunk.apply(lambda row: analyze_ingredients(row['product_name'], row['ingredients']), axis=1)\n",
    "    \n",
    "    # Append results to the output file\n",
    "    df_chunk.to_csv(output_file, mode='a', header=False, index=False)\n",
    "    \n",
    "    print(f\"Processed and appended rows {start} to {end-1} to {output_file}\")\n",
    "print(\"All chunks processed and results saved to\", output_file)"
   ]
  },
  {
   "cell_type": "code",
   "execution_count": 21,
   "id": "966f4b27-1b7f-4ec4-999e-e10033363ef4",
   "metadata": {},
   "outputs": [
    {
     "data": {
      "text/html": [
       "<div>\n",
       "<style scoped>\n",
       "    .dataframe tbody tr th:only-of-type {\n",
       "        vertical-align: middle;\n",
       "    }\n",
       "\n",
       "    .dataframe tbody tr th {\n",
       "        vertical-align: top;\n",
       "    }\n",
       "\n",
       "    .dataframe thead th {\n",
       "        text-align: right;\n",
       "    }\n",
       "</style>\n",
       "<table border=\"1\" class=\"dataframe\">\n",
       "  <thead>\n",
       "    <tr style=\"text-align: right;\">\n",
       "      <th></th>\n",
       "      <th>product_name</th>\n",
       "      <th>ingredients</th>\n",
       "    </tr>\n",
       "  </thead>\n",
       "  <tbody>\n",
       "    <tr>\n",
       "      <th>1</th>\n",
       "      <td>Banana Chips Sweetened (Whole)</td>\n",
       "      <td>bananas, vegetable oil (coconut oil, corn oil ...</td>\n",
       "    </tr>\n",
       "    <tr>\n",
       "      <th>2</th>\n",
       "      <td>Peanuts</td>\n",
       "      <td>peanuts, wheat flour, sugar, rice flour, tapio...</td>\n",
       "    </tr>\n",
       "    <tr>\n",
       "      <th>3</th>\n",
       "      <td>Organic Salted Nut Mix</td>\n",
       "      <td>organic hazelnuts, organic cashews, organic wa...</td>\n",
       "    </tr>\n",
       "    <tr>\n",
       "      <th>4</th>\n",
       "      <td>Organic Polenta</td>\n",
       "      <td>organic polenta</td>\n",
       "    </tr>\n",
       "    <tr>\n",
       "      <th>5</th>\n",
       "      <td>Breadshop Honey Gone Nuts Granola</td>\n",
       "      <td>rolled oats, grape concentrate, expeller press...</td>\n",
       "    </tr>\n",
       "  </tbody>\n",
       "</table>\n",
       "</div>"
      ],
      "text/plain": [
       "                        product_name  \\\n",
       "1     Banana Chips Sweetened (Whole)   \n",
       "2                            Peanuts   \n",
       "3             Organic Salted Nut Mix   \n",
       "4                    Organic Polenta   \n",
       "5  Breadshop Honey Gone Nuts Granola   \n",
       "\n",
       "                                         ingredients  \n",
       "1  bananas, vegetable oil (coconut oil, corn oil ...  \n",
       "2  peanuts, wheat flour, sugar, rice flour, tapio...  \n",
       "3  organic hazelnuts, organic cashews, organic wa...  \n",
       "4                                    organic polenta  \n",
       "5  rolled oats, grape concentrate, expeller press...  "
      ]
     },
     "execution_count": 21,
     "metadata": {},
     "output_type": "execute_result"
    }
   ],
   "source": [
    "df.head()"
   ]
  },
  {
   "cell_type": "code",
   "execution_count": null,
   "id": "a9b09867-a627-42ff-b402-c4373fea2402",
   "metadata": {},
   "outputs": [],
   "source": []
  },
  {
   "cell_type": "code",
   "execution_count": null,
   "id": "876231dd-5556-4319-b2fd-38aabf8f1c41",
   "metadata": {},
   "outputs": [],
   "source": []
  }
 ],
 "metadata": {
  "kernelspec": {
   "display_name": "Python 3 (ipykernel)",
   "language": "python",
   "name": "python3"
  },
  "language_info": {
   "codemirror_mode": {
    "name": "ipython",
    "version": 3
   },
   "file_extension": ".py",
   "mimetype": "text/x-python",
   "name": "python",
   "nbconvert_exporter": "python",
   "pygments_lexer": "ipython3",
   "version": "3.12.4"
  }
 },
 "nbformat": 4,
 "nbformat_minor": 5
}
