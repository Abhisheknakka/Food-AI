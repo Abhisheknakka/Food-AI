{
 "cells": [
  {
   "cell_type": "code",
   "execution_count": 1,
   "id": "9b141db2-9224-40c4-8d06-64ed82166917",
   "metadata": {},
   "outputs": [],
   "source": [
    "import os\n",
    "import pandas as pd\n",
    "from groq import Groq"
   ]
  },
  {
   "cell_type": "code",
   "execution_count": 2,
   "id": "8a35ece3-ca33-43e5-8824-caea1256e978",
   "metadata": {},
   "outputs": [],
   "source": [
    "#Step 1 Load the dataset\n",
    "file_path = \"D:/Projects/Food-AI/inputFolder/varad/\"\n",
    "\n",
    "# Use appropriate encoding if needed\n",
    "df = pd.read_csv(file_path+'food_dataset_updated.csv', encoding='ISO-8859-1')"
   ]
  },
  {
   "cell_type": "code",
   "execution_count": 3,
   "id": "d81c39de-1f93-4e3d-8094-cdf94d6cc2ba",
   "metadata": {},
   "outputs": [
    {
     "data": {
      "text/html": [
       "<div>\n",
       "<style scoped>\n",
       "    .dataframe tbody tr th:only-of-type {\n",
       "        vertical-align: middle;\n",
       "    }\n",
       "\n",
       "    .dataframe tbody tr th {\n",
       "        vertical-align: top;\n",
       "    }\n",
       "\n",
       "    .dataframe thead th {\n",
       "        text-align: right;\n",
       "    }\n",
       "</style>\n",
       "<table border=\"1\" class=\"dataframe\">\n",
       "  <thead>\n",
       "    <tr style=\"text-align: right;\">\n",
       "      <th></th>\n",
       "      <th>product_name</th>\n",
       "      <th>ingredients</th>\n",
       "    </tr>\n",
       "  </thead>\n",
       "  <tbody>\n",
       "    <tr>\n",
       "      <th>0</th>\n",
       "      <td>hyde icon</td>\n",
       "      <td>beta alanine, creatine hcl, ancient peat &amp; app...</td>\n",
       "    </tr>\n",
       "    <tr>\n",
       "      <th>1</th>\n",
       "      <td>Banana Chips Sweetened (Whole)</td>\n",
       "      <td>bananas, vegetable oil (coconut oil, corn oil ...</td>\n",
       "    </tr>\n",
       "    <tr>\n",
       "      <th>2</th>\n",
       "      <td>Peanuts</td>\n",
       "      <td>peanuts, wheat flour, sugar, rice flour, tapio...</td>\n",
       "    </tr>\n",
       "    <tr>\n",
       "      <th>3</th>\n",
       "      <td>Organic Salted Nut Mix</td>\n",
       "      <td>organic hazelnuts, organic cashews, organic wa...</td>\n",
       "    </tr>\n",
       "    <tr>\n",
       "      <th>4</th>\n",
       "      <td>Organic Polenta</td>\n",
       "      <td>organic polenta</td>\n",
       "    </tr>\n",
       "  </tbody>\n",
       "</table>\n",
       "</div>"
      ],
      "text/plain": [
       "                     product_name  \\\n",
       "0                       hyde icon   \n",
       "1  Banana Chips Sweetened (Whole)   \n",
       "2                         Peanuts   \n",
       "3          Organic Salted Nut Mix   \n",
       "4                 Organic Polenta   \n",
       "\n",
       "                                         ingredients  \n",
       "0  beta alanine, creatine hcl, ancient peat & app...  \n",
       "1  bananas, vegetable oil (coconut oil, corn oil ...  \n",
       "2  peanuts, wheat flour, sugar, rice flour, tapio...  \n",
       "3  organic hazelnuts, organic cashews, organic wa...  \n",
       "4                                    organic polenta  "
      ]
     },
     "execution_count": 3,
     "metadata": {},
     "output_type": "execute_result"
    }
   ],
   "source": [
    "df.head()"
   ]
  },
  {
   "cell_type": "code",
   "execution_count": 4,
   "id": "6736dfc5-604f-4f13-b876-643533d344b9",
   "metadata": {},
   "outputs": [],
   "source": [
    "#pip install python-dotenv\n",
    "# Step 2: loading api key from .env file\n",
    "\n",
    "from dotenv import load_dotenv\n",
    "import os\n",
    "\n",
    "load_dotenv()  # Load the variables from .env file\n",
    "\n",
    "api_key = os.getenv(\"GROQ_API_KEY\")\n",
    "client = Groq(api_key=api_key)\n"
   ]
  },
  {
   "cell_type": "code",
   "execution_count": 6,
   "id": "be99f146-fef2-4a55-82da-63e59cf8b725",
   "metadata": {},
   "outputs": [
    {
     "data": {
      "text/html": [
       "<div>\n",
       "<style scoped>\n",
       "    .dataframe tbody tr th:only-of-type {\n",
       "        vertical-align: middle;\n",
       "    }\n",
       "\n",
       "    .dataframe tbody tr th {\n",
       "        vertical-align: top;\n",
       "    }\n",
       "\n",
       "    .dataframe thead th {\n",
       "        text-align: right;\n",
       "    }\n",
       "</style>\n",
       "<table border=\"1\" class=\"dataframe\">\n",
       "  <thead>\n",
       "    <tr style=\"text-align: right;\">\n",
       "      <th></th>\n",
       "      <th>product_name</th>\n",
       "      <th>ingredients</th>\n",
       "    </tr>\n",
       "  </thead>\n",
       "  <tbody>\n",
       "    <tr>\n",
       "      <th>1</th>\n",
       "      <td>Banana Chips Sweetened (Whole)</td>\n",
       "      <td>bananas, vegetable oil (coconut oil, corn oil ...</td>\n",
       "    </tr>\n",
       "    <tr>\n",
       "      <th>2</th>\n",
       "      <td>Peanuts</td>\n",
       "      <td>peanuts, wheat flour, sugar, rice flour, tapio...</td>\n",
       "    </tr>\n",
       "    <tr>\n",
       "      <th>3</th>\n",
       "      <td>Organic Salted Nut Mix</td>\n",
       "      <td>organic hazelnuts, organic cashews, organic wa...</td>\n",
       "    </tr>\n",
       "    <tr>\n",
       "      <th>4</th>\n",
       "      <td>Organic Polenta</td>\n",
       "      <td>organic polenta</td>\n",
       "    </tr>\n",
       "    <tr>\n",
       "      <th>5</th>\n",
       "      <td>Breadshop Honey Gone Nuts Granola</td>\n",
       "      <td>rolled oats, grape concentrate, expeller press...</td>\n",
       "    </tr>\n",
       "    <tr>\n",
       "      <th>...</th>\n",
       "      <td>...</td>\n",
       "      <td>...</td>\n",
       "    </tr>\n",
       "    <tr>\n",
       "      <th>95</th>\n",
       "      <td>Curry Lentil Soup Mix</td>\n",
       "      <td>precooked lentils, salt, curry spices and herb...</td>\n",
       "    </tr>\n",
       "    <tr>\n",
       "      <th>96</th>\n",
       "      <td>Split Pea Soup Mix</td>\n",
       "      <td>precooked green split peas, carrots, salt, oni...</td>\n",
       "    </tr>\n",
       "    <tr>\n",
       "      <th>97</th>\n",
       "      <td>Whole Wheat 'N Honey Fig Bars</td>\n",
       "      <td>figs, stone-ground whole wheat flour, honey, p...</td>\n",
       "    </tr>\n",
       "    <tr>\n",
       "      <th>98</th>\n",
       "      <td>Chocolate Nut Crunch</td>\n",
       "      <td>peanut butter chips (evaported cane juice, fra...</td>\n",
       "    </tr>\n",
       "    <tr>\n",
       "      <th>99</th>\n",
       "      <td>Milk Chocolate Peanut Butter Malt Balls</td>\n",
       "      <td>peanut butter coating (evaporated cane juice, ...</td>\n",
       "    </tr>\n",
       "  </tbody>\n",
       "</table>\n",
       "<p>99 rows × 2 columns</p>\n",
       "</div>"
      ],
      "text/plain": [
       "                               product_name  \\\n",
       "1            Banana Chips Sweetened (Whole)   \n",
       "2                                   Peanuts   \n",
       "3                    Organic Salted Nut Mix   \n",
       "4                           Organic Polenta   \n",
       "5         Breadshop Honey Gone Nuts Granola   \n",
       "..                                      ...   \n",
       "95                    Curry Lentil Soup Mix   \n",
       "96                       Split Pea Soup Mix   \n",
       "97            Whole Wheat 'N Honey Fig Bars   \n",
       "98                     Chocolate Nut Crunch   \n",
       "99  Milk Chocolate Peanut Butter Malt Balls   \n",
       "\n",
       "                                          ingredients  \n",
       "1   bananas, vegetable oil (coconut oil, corn oil ...  \n",
       "2   peanuts, wheat flour, sugar, rice flour, tapio...  \n",
       "3   organic hazelnuts, organic cashews, organic wa...  \n",
       "4                                     organic polenta  \n",
       "5   rolled oats, grape concentrate, expeller press...  \n",
       "..                                                ...  \n",
       "95  precooked lentils, salt, curry spices and herb...  \n",
       "96  precooked green split peas, carrots, salt, oni...  \n",
       "97  figs, stone-ground whole wheat flour, honey, p...  \n",
       "98  peanut butter chips (evaported cane juice, fra...  \n",
       "99  peanut butter coating (evaporated cane juice, ...  \n",
       "\n",
       "[99 rows x 2 columns]"
      ]
     },
     "execution_count": 6,
     "metadata": {},
     "output_type": "execute_result"
    }
   ],
   "source": [
    "df = df[1:100]\n",
    "df"
   ]
  },
  {
   "cell_type": "code",
   "execution_count": 10,
   "id": "3ade9977-532f-4708-9830-4f3263be3bf2",
   "metadata": {},
   "outputs": [],
   "source": [
    "# Step 3: Function to analyze ingredients using GROQ API\n",
    "def analyze_ingredients(product_name, ingredients):\n",
    "    prompt = f\"\"\"\n",
    "    Imagine you are a highly trained nutritionist with the highest knowledge on nutrient breakdown of products. Identify which ingredients are harmful and which are not. \n",
    "    Your task is to give a list and write a summary of which ingredients are not good from the list. Arrange good and bad ingredients separately. Give a simple summary mainly focus on the preservatives.\n",
    "    The food item is: {product_name}\n",
    "    Ingredients: {ingredients}\n",
    "    \"\"\"\n",
    "    chat_completion = client.chat.completions.create(\n",
    "        messages=[{\"role\": \"user\", \"content\": prompt}],\n",
    "        model=\"llama3-8b-8192\",\n",
    "    )\n",
    "    \n",
    "    return chat_completion.choices[0].message.content"
   ]
  },
  {
   "cell_type": "code",
   "execution_count": 15,
   "id": "6e577161-732d-49fe-94d3-27d69050fb67",
   "metadata": {},
   "outputs": [],
   "source": [
    "# Step 4: Load and process data in chunks\n",
    "chunk_size = 20  # You can adjust the chunk size depending on memory capacity\n",
    "total_rows = len(df)\n"
   ]
  },
  {
   "cell_type": "code",
   "execution_count": 16,
   "id": "78e59c71-b8e6-4688-931f-2b5d90c13716",
   "metadata": {},
   "outputs": [],
   "source": [
    "# Step 5: # Initialize the output file with headers\n",
    "with open(output_file, 'w') as f:\n",
    "    f.write('product_name,ingredients,Analysis\\n')\n"
   ]
  },
  {
   "cell_type": "code",
   "execution_count": 17,
   "id": "7af7af24-4dab-4efc-812e-690230f3e5dd",
   "metadata": {},
   "outputs": [
    {
     "name": "stderr",
     "output_type": "stream",
     "text": [
      "C:\\Users\\nakka\\AppData\\Local\\Temp\\ipykernel_22508\\3794554353.py:6: SettingWithCopyWarning: \n",
      "A value is trying to be set on a copy of a slice from a DataFrame.\n",
      "Try using .loc[row_indexer,col_indexer] = value instead\n",
      "\n",
      "See the caveats in the documentation: https://pandas.pydata.org/pandas-docs/stable/user_guide/indexing.html#returning-a-view-versus-a-copy\n",
      "  df_chunk['Analysis'] = df_chunk.apply(lambda row: analyze_ingredients(row['product_name'], row['ingredients']), axis=1)\n"
     ]
    },
    {
     "name": "stdout",
     "output_type": "stream",
     "text": [
      "Processed and appended rows 0 to 19 to updated_food_analysis.csv\n"
     ]
    },
    {
     "name": "stderr",
     "output_type": "stream",
     "text": [
      "C:\\Users\\nakka\\AppData\\Local\\Temp\\ipykernel_22508\\3794554353.py:6: SettingWithCopyWarning: \n",
      "A value is trying to be set on a copy of a slice from a DataFrame.\n",
      "Try using .loc[row_indexer,col_indexer] = value instead\n",
      "\n",
      "See the caveats in the documentation: https://pandas.pydata.org/pandas-docs/stable/user_guide/indexing.html#returning-a-view-versus-a-copy\n",
      "  df_chunk['Analysis'] = df_chunk.apply(lambda row: analyze_ingredients(row['product_name'], row['ingredients']), axis=1)\n"
     ]
    },
    {
     "name": "stdout",
     "output_type": "stream",
     "text": [
      "Processed and appended rows 20 to 39 to updated_food_analysis.csv\n"
     ]
    },
    {
     "name": "stderr",
     "output_type": "stream",
     "text": [
      "C:\\Users\\nakka\\AppData\\Local\\Temp\\ipykernel_22508\\3794554353.py:6: SettingWithCopyWarning: \n",
      "A value is trying to be set on a copy of a slice from a DataFrame.\n",
      "Try using .loc[row_indexer,col_indexer] = value instead\n",
      "\n",
      "See the caveats in the documentation: https://pandas.pydata.org/pandas-docs/stable/user_guide/indexing.html#returning-a-view-versus-a-copy\n",
      "  df_chunk['Analysis'] = df_chunk.apply(lambda row: analyze_ingredients(row['product_name'], row['ingredients']), axis=1)\n"
     ]
    },
    {
     "name": "stdout",
     "output_type": "stream",
     "text": [
      "Processed and appended rows 40 to 59 to updated_food_analysis.csv\n"
     ]
    },
    {
     "name": "stderr",
     "output_type": "stream",
     "text": [
      "C:\\Users\\nakka\\AppData\\Local\\Temp\\ipykernel_22508\\3794554353.py:6: SettingWithCopyWarning: \n",
      "A value is trying to be set on a copy of a slice from a DataFrame.\n",
      "Try using .loc[row_indexer,col_indexer] = value instead\n",
      "\n",
      "See the caveats in the documentation: https://pandas.pydata.org/pandas-docs/stable/user_guide/indexing.html#returning-a-view-versus-a-copy\n",
      "  df_chunk['Analysis'] = df_chunk.apply(lambda row: analyze_ingredients(row['product_name'], row['ingredients']), axis=1)\n"
     ]
    },
    {
     "name": "stdout",
     "output_type": "stream",
     "text": [
      "Processed and appended rows 60 to 79 to updated_food_analysis.csv\n",
      "Processed and appended rows 80 to 98 to updated_food_analysis.csv\n",
      "All chunks processed and results saved to updated_food_analysis.csv\n"
     ]
    },
    {
     "name": "stderr",
     "output_type": "stream",
     "text": [
      "C:\\Users\\nakka\\AppData\\Local\\Temp\\ipykernel_22508\\3794554353.py:6: SettingWithCopyWarning: \n",
      "A value is trying to be set on a copy of a slice from a DataFrame.\n",
      "Try using .loc[row_indexer,col_indexer] = value instead\n",
      "\n",
      "See the caveats in the documentation: https://pandas.pydata.org/pandas-docs/stable/user_guide/indexing.html#returning-a-view-versus-a-copy\n",
      "  df_chunk['Analysis'] = df_chunk.apply(lambda row: analyze_ingredients(row['product_name'], row['ingredients']), axis=1)\n"
     ]
    }
   ],
   "source": [
    "# Step 6:  Process the data chunk by chunk\n",
    "for start in range(0, total_rows, chunk_size):\n",
    "    end = min(start + chunk_size, total_rows)\n",
    "    df_chunk = df.iloc[start:end]\n",
    "    \n",
    "    df_chunk['Analysis'] = df_chunk.apply(lambda row: analyze_ingredients(row['product_name'], row['ingredients']), axis=1)\n",
    "    \n",
    "    # Append results to the output file\n",
    "    df_chunk.to_csv(output_file, mode='a', header=False, index=False)\n",
    "    \n",
    "    print(f\"Processed and appended rows {start} to {end-1} to {output_file}\")\n",
    "print(\"All chunks processed and results saved to\", output_file)\n"
   ]
  },
  {
   "cell_type": "code",
   "execution_count": 12,
   "id": "966f4b27-1b7f-4ec4-999e-e10033363ef4",
   "metadata": {},
   "outputs": [
    {
     "data": {
      "text/html": [
       "<div>\n",
       "<style scoped>\n",
       "    .dataframe tbody tr th:only-of-type {\n",
       "        vertical-align: middle;\n",
       "    }\n",
       "\n",
       "    .dataframe tbody tr th {\n",
       "        vertical-align: top;\n",
       "    }\n",
       "\n",
       "    .dataframe thead th {\n",
       "        text-align: right;\n",
       "    }\n",
       "</style>\n",
       "<table border=\"1\" class=\"dataframe\">\n",
       "  <thead>\n",
       "    <tr style=\"text-align: right;\">\n",
       "      <th></th>\n",
       "      <th>product_name</th>\n",
       "      <th>ingredients</th>\n",
       "      <th>Analysis</th>\n",
       "    </tr>\n",
       "  </thead>\n",
       "  <tbody>\n",
       "    <tr>\n",
       "      <th>2</th>\n",
       "      <td>Peanuts</td>\n",
       "      <td>peanuts, wheat flour, sugar, rice flour, tapio...</td>\n",
       "      <td>As a highly trained nutritionist, I've analyze...</td>\n",
       "    </tr>\n",
       "    <tr>\n",
       "      <th>3</th>\n",
       "      <td>Organic Salted Nut Mix</td>\n",
       "      <td>organic hazelnuts, organic cashews, organic wa...</td>\n",
       "      <td>A delightful snack! As a highly trained nutrit...</td>\n",
       "    </tr>\n",
       "    <tr>\n",
       "      <th>4</th>\n",
       "      <td>Organic Polenta</td>\n",
       "      <td>organic polenta</td>\n",
       "      <td>As a highly trained nutritionist, I can assure...</td>\n",
       "    </tr>\n",
       "    <tr>\n",
       "      <th>5</th>\n",
       "      <td>Breadshop Honey Gone Nuts Granola</td>\n",
       "      <td>rolled oats, grape concentrate, expeller press...</td>\n",
       "      <td>As a highly trained nutritionist, I'll review ...</td>\n",
       "    </tr>\n",
       "    <tr>\n",
       "      <th>6</th>\n",
       "      <td>Organic Long Grain White Rice</td>\n",
       "      <td>organic long grain white rice</td>\n",
       "      <td>What a simple yet pure ingredient! As a highly...</td>\n",
       "    </tr>\n",
       "  </tbody>\n",
       "</table>\n",
       "</div>"
      ],
      "text/plain": [
       "                        product_name  \\\n",
       "2                            Peanuts   \n",
       "3             Organic Salted Nut Mix   \n",
       "4                    Organic Polenta   \n",
       "5  Breadshop Honey Gone Nuts Granola   \n",
       "6      Organic Long Grain White Rice   \n",
       "\n",
       "                                         ingredients  \\\n",
       "2  peanuts, wheat flour, sugar, rice flour, tapio...   \n",
       "3  organic hazelnuts, organic cashews, organic wa...   \n",
       "4                                    organic polenta   \n",
       "5  rolled oats, grape concentrate, expeller press...   \n",
       "6                      organic long grain white rice   \n",
       "\n",
       "                                            Analysis  \n",
       "2  As a highly trained nutritionist, I've analyze...  \n",
       "3  A delightful snack! As a highly trained nutrit...  \n",
       "4  As a highly trained nutritionist, I can assure...  \n",
       "5  As a highly trained nutritionist, I'll review ...  \n",
       "6  What a simple yet pure ingredient! As a highly...  "
      ]
     },
     "execution_count": 12,
     "metadata": {},
     "output_type": "execute_result"
    }
   ],
   "source": [
    "df.head()"
   ]
  },
  {
   "cell_type": "code",
   "execution_count": null,
   "id": "a9b09867-a627-42ff-b402-c4373fea2402",
   "metadata": {},
   "outputs": [],
   "source": []
  }
 ],
 "metadata": {
  "kernelspec": {
   "display_name": "Python 3 (ipykernel)",
   "language": "python",
   "name": "python3"
  },
  "language_info": {
   "codemirror_mode": {
    "name": "ipython",
    "version": 3
   },
   "file_extension": ".py",
   "mimetype": "text/x-python",
   "name": "python",
   "nbconvert_exporter": "python",
   "pygments_lexer": "ipython3",
   "version": "3.12.4"
  }
 },
 "nbformat": 4,
 "nbformat_minor": 5
}
